{
 "cells": [
  {
   "cell_type": "code",
   "execution_count": 2,
   "id": "481dcd8c",
   "metadata": {},
   "outputs": [],
   "source": [
    "import numpy as np\n",
    "import pandas as pd\n",
    "import matplotlib.pyplot as plt\n",
    "from glob import glob\n",
    "import sklearn.metrics as metrics\n",
    "import tensorflow as tf\n",
    "from tensorflow.keras.preprocessing.image import ImageDataGenerator # Use tensorflow.keras.preprocessing.image to import ImageDataGenerator\n",
    "from tensorflow.keras.models import Model\n",
    "from tensorflow.keras.layers import Flatten, Dense\n",
    "from tensorflow.keras.applications import VGG16"
   ]
  },
  {
   "cell_type": "code",
   "execution_count": 4,
   "id": "e06517a5",
   "metadata": {},
   "outputs": [],
   "source": [
    "num_classes=3\n",
    "IMAGE_SHAPE = [224, 224]\n",
    "batch_size=32 #change for better accuracy based on your dataset\n",
    "epochs = 5 #change for better accuracy based on your dataset"
   ]
  },
  {
   "cell_type": "code",
   "execution_count": 5,
   "id": "b1afdc21",
   "metadata": {},
   "outputs": [],
   "source": [
    "vgg = VGG16(input_shape = (224,224,3), weights = 'imagenet', include_top = False)\n",
    "for layer in vgg.layers:\n",
    "  layer.trainable = False\n",
    "x = Flatten()(vgg.output)\n",
    "x = Dense(128, activation =\"relu\")(x) \n",
    "x = Dense(64, activation = \"relu\")(x) \n",
    "x = Dense(num_classes, activation = \"softmax\")(x) \n",
    "model = Model(inputs = vgg.input, outputs = x)\n",
    "model.compile(loss=\"categorical_crossentropy\", optimizer=\"adam\", metrics=[\"accuracy\"])"
   ]
  },
  {
   "cell_type": "code",
   "execution_count": 6,
   "id": "4cde33c1",
   "metadata": {},
   "outputs": [
    {
     "name": "stdout",
     "output_type": "stream",
     "text": [
      "Found 385 images belonging to 3 classes.\n",
      "Found 138 images belonging to 3 classes.\n"
     ]
    }
   ],
   "source": [
    "trdata = ImageDataGenerator()\n",
    "# Ensure the path to your training data is correct\n",
    "train_data_gen = trdata.flow_from_directory(directory=\"./Train\",target_size=(224,224), shuffle=False, class_mode=\"categorical\") \n",
    "tsdata = ImageDataGenerator()\n",
    "# Ensure the path to your test data is correct\n",
    "test_data_gen = tsdata.flow_from_directory(directory=\"./Test\", target_size=(224,224),shuffle=False, class_mode=\"categorical\")"
   ]
  },
  {
   "cell_type": "code",
   "execution_count": 9,
   "id": "550f8670",
   "metadata": {},
   "outputs": [
    {
     "name": "stdout",
     "output_type": "stream",
     "text": [
      "Epoch 1/5\n",
      "\u001b[1m13/13\u001b[0m \u001b[32m━━━━━━━━━━━━━━━━━━━━\u001b[0m\u001b[37m\u001b[0m \u001b[1m26s\u001b[0m 2s/step - accuracy: 0.4179 - loss: 16.1653 - val_accuracy: 0.7319 - val_loss: 8.9674\n",
      "Epoch 2/5\n",
      "\u001b[1m13/13\u001b[0m \u001b[32m━━━━━━━━━━━━━━━━━━━━\u001b[0m\u001b[37m\u001b[0m \u001b[1m28s\u001b[0m 2s/step - accuracy: 0.8362 - loss: 3.6590 - val_accuracy: 0.8116 - val_loss: 4.0748\n",
      "Epoch 3/5\n",
      "\u001b[1m13/13\u001b[0m \u001b[32m━━━━━━━━━━━━━━━━━━━━\u001b[0m\u001b[37m\u001b[0m \u001b[1m29s\u001b[0m 2s/step - accuracy: 0.8697 - loss: 1.9525 - val_accuracy: 0.8333 - val_loss: 4.7250\n",
      "Epoch 4/5\n",
      "\u001b[1m13/13\u001b[0m \u001b[32m━━━━━━━━━━━━━━━━━━━━\u001b[0m\u001b[37m\u001b[0m \u001b[1m28s\u001b[0m 2s/step - accuracy: 0.9797 - loss: 0.1934 - val_accuracy: 0.8841 - val_loss: 2.9693\n",
      "Epoch 5/5\n",
      "\u001b[1m13/13\u001b[0m \u001b[32m━━━━━━━━━━━━━━━━━━━━\u001b[0m\u001b[37m\u001b[0m \u001b[1m28s\u001b[0m 2s/step - accuracy: 0.9982 - loss: 0.0051 - val_accuracy: 0.8913 - val_loss: 3.4445\n",
      "Training Completed!\n"
     ]
    }
   ],
   "source": [
    "training_steps_per_epoch = int(np.ceil(train_data_gen.n / batch_size)) \n",
    "validation_steps_per_epoch = int(np.ceil(test_data_gen.n / batch_size)) \n",
    "model.fit(train_data_gen, validation_data=test_data_gen,epochs=epochs, verbose=1) # Add the missing closing parenthesis\n",
    "print(\"Training Completed!\")"
   ]
  },
  {
   "cell_type": "code",
   "execution_count": 10,
   "id": "4c2cb58b",
   "metadata": {},
   "outputs": [
    {
     "name": "stdout",
     "output_type": "stream",
     "text": [
      "\u001b[1m5/5\u001b[0m \u001b[32m━━━━━━━━━━━━━━━━━━━━\u001b[0m\u001b[37m\u001b[0m \u001b[1m7s\u001b[0m 1s/step\n",
      "              precision    recall  f1-score   support\n",
      "\n",
      "           0       0.98      0.83      0.90        59\n",
      "           1       0.91      0.96      0.94        53\n",
      "           2       0.72      0.88      0.79        26\n",
      "\n",
      "    accuracy                           0.89       138\n",
      "   macro avg       0.87      0.89      0.88       138\n",
      "weighted avg       0.90      0.89      0.89       138\n",
      "\n"
     ]
    }
   ],
   "source": [
    "Y_pred = model.predict(test_data_gen, test_data_gen.samples / batch_size)\n",
    "val_preds = np.argmax(Y_pred, axis=1)\n",
    "import sklearn.metrics as metrics\n",
    "val_trues =test_data_gen.classes\n",
    "from sklearn.metrics import classification_report\n",
    "print(classification_report(val_trues, val_preds))"
   ]
  },
  {
   "cell_type": "code",
   "execution_count": 11,
   "id": "1e07aa15",
   "metadata": {},
   "outputs": [
    {
     "name": "stdout",
     "output_type": "stream",
     "text": [
      "\u001b[1m5/5\u001b[0m \u001b[32m━━━━━━━━━━━━━━━━━━━━\u001b[0m\u001b[37m\u001b[0m \u001b[1m7s\u001b[0m 1s/step\n"
     ]
    },
    {
     "data": {
      "text/plain": [
       "array([[49,  3,  7],\n",
       "       [ 0, 51,  2],\n",
       "       [ 1,  2, 23]], dtype=int64)"
      ]
     },
     "execution_count": 11,
     "metadata": {},
     "output_type": "execute_result"
    }
   ],
   "source": [
    "Y_pred = model.predict(test_data_gen, test_data_gen.samples / batch_size)\n",
    "val_preds = np.argmax(Y_pred, axis=1)\n",
    "val_trues =test_data_gen.classes\n",
    "cm = metrics.confusion_matrix(val_trues, val_preds)\n",
    "cm"
   ]
  },
  {
   "cell_type": "code",
   "execution_count": 12,
   "id": "075f8355",
   "metadata": {},
   "outputs": [
    {
     "name": "stderr",
     "output_type": "stream",
     "text": [
      "WARNING:absl:You are saving your model as an HDF5 file via `model.save()` or `keras.saving.save_model(model)`. This file format is considered legacy. We recommend using instead the native Keras format, e.g. `model.save('my_model.keras')` or `keras.saving.save_model(model, 'my_model.keras')`. \n"
     ]
    }
   ],
   "source": [
    "keras_file=\"Model.h5\"\n",
    "tf.keras.models.save_model(model,keras_file)"
   ]
  },
  {
   "cell_type": "code",
   "execution_count": null,
   "id": "90ee47a8",
   "metadata": {},
   "outputs": [],
   "source": []
  }
 ],
 "metadata": {
  "kernelspec": {
   "display_name": "Python 3 (ipykernel)",
   "language": "python",
   "name": "python3"
  },
  "language_info": {
   "codemirror_mode": {
    "name": "ipython",
    "version": 3
   },
   "file_extension": ".py",
   "mimetype": "text/x-python",
   "name": "python",
   "nbconvert_exporter": "python",
   "pygments_lexer": "ipython3",
   "version": "3.10.9"
  }
 },
 "nbformat": 4,
 "nbformat_minor": 5
}
